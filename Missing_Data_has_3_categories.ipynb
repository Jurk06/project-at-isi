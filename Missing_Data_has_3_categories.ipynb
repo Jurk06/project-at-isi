{
  "nbformat": 4,
  "nbformat_minor": 0,
  "metadata": {
    "colab": {
      "name": "Missing Data has 3 categories.ipynb",
      "provenance": []
    },
    "kernelspec": {
      "name": "python3",
      "display_name": "Python 3"
    },
    "language_info": {
      "name": "python"
    }
  },
  "cells": [
    {
      "cell_type": "markdown",
      "metadata": {
        "id": "EZQ8_sPEYuxZ"
      },
      "source": [
        "# Missing data can be broadly divided into 3 categories, \n",
        "* that need to figure out, and imputing the missing values solely depends on the category of missing data a feature is positioned:\n",
        "   1.  Missing Completely At Random (MCAR)\n",
        "   2.  Missing At Random (MAR)\n",
        "   3.  Missing Not At Random (MNAR)"
      ]
    },
    {
      "cell_type": "markdown",
      "metadata": {
        "id": "wzGTPs9-ZBt2"
      },
      "source": [
        "# Missing Completely At Random (MCAR):\n",
        "* MCAR refers to the condition where the missing values are not intentionally missed but there are missing at random.\n",
        "* The values that are missed are unrelated to other values in the same column or values in the other column.\n",
        "*  It is easy to check if the values are missing completely at random by Little’s MCAR test.\n",
        "* "
      ]
    },
    {
      "cell_type": "markdown",
      "metadata": {
        "id": "Qv414JLy99q_"
      },
      "source": [
        "# Missing At Random (MAR)\n",
        "* MAR refers to the condition in which the missingness of the data is within the subgroup of the data, \n",
        "* and it affects the other values too. The probability of missing data in a variable is related to other variables in the data.\n",
        "* MAR results in presence of dependency in the data, which results in bias and reliability of the model suffers\n",
        "* Missingness is within a subgroup\n",
        "* MAR may result in a bias of the data\n",
        "* Missing values are dependent on other variables."
      ]
    },
    {
      "cell_type": "markdown",
      "metadata": {
        "id": "M1uXsWyk_JQm"
      },
      "source": [
        "# Missing Not At Random (MNAR)\n",
        "* MNAR refers to the condition in which the values are not missed at random instead it is missed intentionally. \n",
        "* Missing values on a variable are related to the values of that variable itself, even after controlling for other variables. \n",
        "* his missingness can be systematically related to unobserved data\n",
        "* MNAR missing values are not captured because of several reasons. MNAR also leads to the bias of data.\n",
        "* Missing data is related to unobserved data.\n",
        "* The missingness can be related to events or factors that are not measured.\n"
      ]
    },
    {
      "cell_type": "markdown",
      "metadata": {
        "id": "xEJCFPs1_k9w"
      },
      "source": [
        "# Missing Data Mechanism:\n",
        "There are basically two ways to categorize the data into the missing data mechanism.\n"
      ]
    },
    {
      "cell_type": "markdown",
      "metadata": {
        "id": "Jlmdi_q1_38T"
      },
      "source": [
        "# Common Sense\n",
        "* Most researchers have the idea of the reason for the missing values. \n",
        "* It’s important to take into account the reason behind the missing data and data collection process.\n"
      ]
    },
    {
      "cell_type": "markdown",
      "metadata": {
        "id": "NJNyai0b__dx"
      },
      "source": [
        "# Statistical Testing:\n",
        "* It is another method to categorize the missing data into the missing data mechanisms.\n",
        "*  Divide the missing values column into two groups, one with elements with complete data of the ‘salary’ column, and the other with missing data.\n",
        "* hen create a dichotomous variable or missing data indicator that indicates whether ‘salary’ is missing or not.\n",
        "* Then compute the group difference with a t-test\n",
        "* Use the missing data indicator variable as an outcome for a classification ML model and test whether other variables in the data are related to that outcome.\n",
        "* If we find variables related to the missing data indicator we can conclude that data are not MCAR\n",
        "* We can never distinguish between MAR or MNAR. We can only test if the data are MCAR or not MCAR"
      ]
    },
    {
      "cell_type": "code",
      "metadata": {
        "id": "HdqLe8QCYqWj"
      },
      "source": [
        ""
      ],
      "execution_count": null,
      "outputs": []
    }
  ]
}